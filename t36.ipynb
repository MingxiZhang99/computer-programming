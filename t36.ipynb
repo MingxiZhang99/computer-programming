{
  "cells": [
    {
      "cell_type": "markdown",
      "metadata": {
        "id": "view-in-github",
        "colab_type": "text"
      },
      "source": [
        "<a href=\"https://colab.research.google.com/github/MingxiZhang99/computer-programming/blob/main/t36.ipynb\" target=\"_parent\"><img src=\"https://colab.research.google.com/assets/colab-badge.svg\" alt=\"Open In Colab\"/></a>"
      ]
    },
    {
      "cell_type": "markdown",
      "metadata": {
        "id": "L6chybAVFJW2",
        "tags": []
      },
      "source": [
        "# **Notebook: Backpropagation**\n",
        "\n",
        "This notebook runs the backpropagation algorithm on a deep neural network as described in section 7.4 of the book for the least square loss function and for one data sample. In the end, it compares the derivatives with finite difference.\n",
        "\n",
        "After working though this notebook, you will use this notebook to extend to handle softmax output and cross-entropy loss as well as multiple data points.\n",
        "\n",
        "The notebook is a slight modification of https://github.com/udlbook/udlbook/blob/main/Notebooks/Chap07/7_2_Backpropagation.ipynb"
      ]
    },
    {
      "cell_type": "code",
      "execution_count": 1,
      "metadata": {
        "id": "LdIDglk1FFcG",
        "tags": []
      },
      "outputs": [],
      "source": [
        "import numpy as np\n",
        "import matplotlib.pyplot as plt"
      ]
    },
    {
      "cell_type": "markdown",
      "metadata": {
        "id": "nnUoI0m6GyjC",
        "tags": []
      },
      "source": [
        "First let's define a neural network.  We'll just choose the weights and biases randomly for now."
      ]
    },
    {
      "cell_type": "code",
      "execution_count": 11,
      "metadata": {
        "id": "WVM4Tc_jGI0Q",
        "tags": []
      },
      "outputs": [],
      "source": [
        "# Set seed so we always get the same random numbers\n",
        "np.random.seed(0)\n",
        "\n",
        "# Number of hidden layers\n",
        "K = 5\n",
        "# Number of neurons per layer\n",
        "D = 6\n",
        "# Input layer dimension\n",
        "D_i = 1\n",
        "# Output layer dimension\n",
        "D_o = 3\n",
        "\n",
        "# Make empty lists\n",
        "all_weights = [None] * (K+1)\n",
        "all_biases = [None] * (K+1)\n",
        "\n",
        "# Create input and output layer\n",
        "if K==0:\n",
        "    all_weights[0] = np.random.normal(size=(D_o, D_i))\n",
        "else:\n",
        "    all_weights[0] = np.random.normal(size=(D, D_i))\n",
        "    all_weights[-1] = np.random.normal(size=(D_o, D))\n",
        "    all_biases[0] = np.random.normal(size =(D,1))\n",
        "\n",
        "all_biases[-1]= np.random.normal(size =(D_o,1))\n",
        "\n",
        "# Create intermediate layers\n",
        "for layer in range(1,K):\n",
        "    all_weights[layer] = np.random.normal(size=(D,D))\n",
        "    all_biases[layer] = np.random.normal(size=(D,1))"
      ]
    },
    {
      "cell_type": "code",
      "execution_count": 3,
      "metadata": {
        "id": "jZh-7bPXIDq4",
        "tags": []
      },
      "outputs": [],
      "source": [
        "# Define the Rectified Linear Unit (ReLU) function\n",
        "def ReLU(preactivation):\n",
        "    activation = preactivation.clip(0.0)\n",
        "    return activation"
      ]
    },
    {
      "cell_type": "markdown",
      "metadata": {
        "id": "5irtyxnLJSGX",
        "tags": []
      },
      "source": [
        "Now let's run our random network.  The weight matrices $\\boldsymbol\\Omega_{1\\ldots K}$ are the entries of the list \"all_weights\" and the biases $\\boldsymbol\\beta_{1\\ldots K}$ are the entries of the list \"all_biases\".\n",
        "\n",
        "We know that we will need the preactivations $\\mathbf{f}_{0\\ldots K}$ and the activations $\\mathbf{h}_{1\\ldots K}$ later for the backward pass of backpropagation, so we'll store and return these as well.\n"
      ]
    },
    {
      "cell_type": "code",
      "execution_count": 12,
      "metadata": {
        "id": "LgquJUJvJPaN",
        "tags": []
      },
      "outputs": [],
      "source": [
        "def forward_pass(net_input, all_weights, all_biases):\n",
        "\n",
        "    # Retrieve number of layers\n",
        "    K = len(all_weights) -1\n",
        "\n",
        "    # We'll store the pre-activations at each layer in a list \"all_f\"\n",
        "    # and the activations in a second list \"all_h\".\n",
        "    all_f = [None] * (K+1)\n",
        "    all_h = [None] * (K+1)\n",
        "\n",
        "    #For convenience, we'll set all_h[0] to be the input, and all_f[K] will be the output\n",
        "    all_h[0] = net_input\n",
        "\n",
        "    # Run through the layers, calculating all_f[0...K-1] and all_h[1...K]\n",
        "    for layer in range(K):\n",
        "        # Update preactivations and activations at this layer according to eq. 7.16 (eq. 7.17 if you use pdf version)\n",
        "        # Remember to use np.matmul for matrix multiplications\n",
        "        # TODO -- Replace the lines below\n",
        "        all_f[layer] = np.matmul(all_weights[layer], all_h[layer]) + all_biases[layer]\n",
        "        all_h[layer+1] = ReLU(all_f[layer])\n",
        "\n",
        "    # Compute the output from the last hidden layer\n",
        "    # TODO -- Replace the line below\n",
        "    all_f[K] = np.matmul(all_weights[-1], all_h[K]) + all_biases[-1]\n",
        "\n",
        "    # Retrieve the output\n",
        "    net_output = all_f[K]\n",
        "\n",
        "    return net_output, all_f, all_h"
      ]
    },
    {
      "cell_type": "code",
      "execution_count": 20,
      "metadata": {
        "id": "IN6w5m2ZOhnB",
        "tags": [],
        "colab": {
          "base_uri": "https://localhost:8080/"
        },
        "outputId": "2972386a-7cb3-432c-bb30-7b3eafd6a5fc"
      },
      "outputs": [
        {
          "output_type": "stream",
          "name": "stdout",
          "text": [
            "True output = 2.757, Your answer = 4.771\n"
          ]
        }
      ],
      "source": [
        "# Define input\n",
        "n_samples=6 # Number of samples\n",
        "np.random.seed(0)\n",
        "net_input = np.random.normal(0,1,size=(D_i,n_samples)) # If data points as columns\n",
        "\n",
        "# Compute network output\n",
        "net_output, all_f, all_h = forward_pass(net_input,all_weights, all_biases)\n",
        "print(\"True output = %3.3f, Your answer = %3.3f\"%(2.757, net_output[0,0]))"
      ]
    },
    {
      "cell_type": "code",
      "source": [
        "def softmax(x):\n",
        "    e_x = np.exp(x - np.max(x, axis=0, keepdims=True))  # Subtract max for numerical stability\n",
        "    return e_x / np.sum(e_x, axis=0, keepdims=True)\n"
      ],
      "metadata": {
        "id": "QuBmOJFPtth4"
      },
      "execution_count": 21,
      "outputs": []
    },
    {
      "cell_type": "markdown",
      "metadata": {
        "id": "SxVTKp3IcoBF",
        "tags": []
      },
      "source": [
        "Now let's define a cost function. We'll just use the least squares loss function for this. We'll also write a function to compute d_cost_d_output.\n"
      ]
    },
    {
      "cell_type": "code",
      "execution_count": 22,
      "metadata": {
        "tags": [],
        "colab": {
          "base_uri": "https://localhost:8080/"
        },
        "id": "LJuto1enZJc5",
        "outputId": "c32fae5e-9325-48c0-eab8-95b0b554a5bf"
      },
      "outputs": [
        {
          "output_type": "stream",
          "name": "stdout",
          "text": [
            "y =  [[1. 0. 1. 1. 1. 0.]\n",
            " [0. 0. 0. 0. 0. 0.]\n",
            " [0. 1. 0. 0. 0. 1.]]\n",
            "Cost = 4.339\n"
          ]
        }
      ],
      "source": [
        "# def compute_cost(net_output, y):\n",
        "#     I = y.shape[1]  # Number of data points if data points as columns\n",
        "#     return np.sum((net_output-y) * (net_output-y))/I\n",
        "def compute_cost(net_output, y):\n",
        "    # Apply softmax to the output first\n",
        "    softmax_output = softmax(net_output)\n",
        "    N = y.shape[1]  # Number of data points (assuming data points are columns)\n",
        "    cost = -np.sum(y * np.log(softmax_output)) / N\n",
        "    return cost\n",
        "\n",
        "# def d_cost_d_output(net_output, y):\n",
        "#     I = y.shape[1] # Number of data points if data points as columns\n",
        "#     return 2*(net_output -y)/I;\n",
        "def d_cost_d_output(net_output, y):\n",
        "    # Apply softmax to the output first\n",
        "    softmax_output = softmax(net_output)\n",
        "    return softmax_output - y\n",
        "\n",
        "# Define the output we later will use for evaluating the gradients.\n",
        "# y = np.random.normal(0,1,size=(D_o,n_samples))\n",
        "y = np.eye(D_o)[np.random.choice(D_o, n_samples)].T\n",
        "\n",
        "\n",
        "L = compute_cost(net_output, y)\n",
        "print(\"y = \",y)\n",
        "print(\"Cost = %3.3f\"%(L))"
      ]
    },
    {
      "cell_type": "markdown",
      "metadata": {
        "id": "98WmyqFYWA-0",
        "tags": []
      },
      "source": [
        "Now let's compute the derivatives of the network.  We already computed the forward pass.  Let's compute the backward pass."
      ]
    },
    {
      "cell_type": "code",
      "execution_count": 23,
      "metadata": {
        "id": "LJng7WpRPLMz",
        "tags": []
      },
      "outputs": [],
      "source": [
        "# We'll need the indicator function\n",
        "def indicator_function(x):\n",
        "    x_in = np.array(x)\n",
        "    x_in[x_in>0] = 1\n",
        "    x_in[x_in<=0] = 0\n",
        "    return x_in\n",
        "\n",
        "# Main backward pass routine\n",
        "def backward_pass(all_weights, all_biases, all_f, all_h, y):\n",
        "    # We'll store the derivatives dl_dweights and dl_dbiases in lists as well\n",
        "    all_dl_dweights = [None] * (K+1)\n",
        "    all_dl_dbiases = [None] * (K+1)\n",
        "    # And we'll store the derivatives of the cost with respect to the activation and preactivations in lists\n",
        "    all_dl_df = [None] * (K+1)\n",
        "    all_dl_dh = [None] * (K+1)\n",
        "    # Again for convenience we'll stick with the convention that all_h[0] is the net input and all_f[k] in the net output\n",
        "\n",
        "    # Compute derivatives of the cost with respect to the network output\n",
        "    all_dl_df[K] = np.array(d_cost_d_output(all_f[K],y))\n",
        "    # Now work backwards through the network\n",
        "    for layer in range(K,-1,-1):\n",
        "        # TODO Calculate the derivatives of the cost with respect to the biases at layer from all_dl_df[layer]. (eq 7.21, pdf version: eq 7.22)\n",
        "        # NOTE!  To take a copy of matrix X, use Z=np.array(X)\n",
        "        # REPLACE THIS LINE\n",
        "        all_dl_dbiases[layer] = np.sum(all_dl_df[layer], axis=1, keepdims=True)\n",
        "\n",
        "\n",
        "        # TODO Calculate the derivatives of the cost with respect to the weights at layer from all_dl_df[layer] and all_h[layer] (eq 7.22, pdf version: eq 7.23)\n",
        "        # Don't forget to use np.matmul\n",
        "        # REPLACE THIS LINE\n",
        "        all_dl_dweights[layer] = np.matmul(all_dl_df[layer], all_h[layer].T)\n",
        "\n",
        "\n",
        "        # TODO: calculate the derivatives of the cost with respect to the activations from weight and derivatives of next preactivations (second part of last line of eq 7.24, pdf version: eq 7.25)\n",
        "        # REPLACE THIS LINE\n",
        "        all_dl_dh[layer] = np.matmul(all_weights[layer].T, all_dl_df[layer])\n",
        "\n",
        "\n",
        "        if layer > 0:\n",
        "            # TODO Calculate the derivatives of the cost with respect to the pre-activation f (use derivative of ReLu function, first part of last line of eq 7.24, pdf version: eq 7.25)\n",
        "            # REPLACE THIS LINE\n",
        "            all_dl_df[layer-1] = all_dl_dh[layer] * indicator_function(all_f[layer-1])\n",
        "\n",
        "\n",
        "    return all_dl_dweights, all_dl_dbiases"
      ]
    },
    {
      "cell_type": "markdown",
      "source": [],
      "metadata": {
        "id": "dr6R_GcahR3P"
      }
    },
    {
      "cell_type": "code",
      "execution_count": 24,
      "metadata": {
        "id": "9A9MHc4sQvbp",
        "tags": []
      },
      "outputs": [],
      "source": [
        "all_dl_dweights, all_dl_dbiases = backward_pass(all_weights, all_biases, all_f, all_h, y)"
      ]
    },
    {
      "cell_type": "code",
      "execution_count": 25,
      "metadata": {
        "colab": {
          "base_uri": "https://localhost:8080/"
        },
        "id": "PK-UtE3hreAK",
        "outputId": "0fd79517-3042-4728-f81a-465fd2618c7d",
        "scrolled": false,
        "tags": []
      },
      "outputs": [
        {
          "output_type": "stream",
          "name": "stdout",
          "text": [
            "-----------------------------------------------\n",
            "Bias 0, derivatives from backprop:\n",
            "[[ 7.224]\n",
            " [ 0.   ]\n",
            " [-2.617]\n",
            " [10.108]\n",
            " [-8.033]\n",
            " [ 4.034]]\n",
            "Bias 0, derivatives from finite differences\n",
            "[[ 1.204]\n",
            " [ 0.   ]\n",
            " [-0.436]\n",
            " [ 1.685]\n",
            " [-1.339]\n",
            " [ 0.672]]\n",
            "Failure!  Derivatives different.\n",
            "-----------------------------------------------\n",
            "Bias 1, derivatives from backprop:\n",
            "[[-0.109]\n",
            " [-6.161]\n",
            " [ 0.   ]\n",
            " [13.3  ]\n",
            " [ 0.   ]\n",
            " [ 0.   ]]\n",
            "Bias 1, derivatives from finite differences\n",
            "[[-0.018]\n",
            " [-1.027]\n",
            " [ 0.   ]\n",
            " [ 2.217]\n",
            " [ 0.   ]\n",
            " [ 0.   ]]\n",
            "Failure!  Derivatives different.\n",
            "-----------------------------------------------\n",
            "Bias 2, derivatives from backprop:\n",
            "[[-0.142]\n",
            " [ 3.49 ]\n",
            " [ 2.71 ]\n",
            " [ 1.123]\n",
            " [-3.748]\n",
            " [ 2.278]]\n",
            "Bias 2, derivatives from finite differences\n",
            "[[-0.024]\n",
            " [ 0.582]\n",
            " [ 0.452]\n",
            " [ 0.187]\n",
            " [-0.625]\n",
            " [ 0.38 ]]\n",
            "Failure!  Derivatives different.\n",
            "-----------------------------------------------\n",
            "Bias 3, derivatives from backprop:\n",
            "[[6.337]\n",
            " [0.577]\n",
            " [0.   ]\n",
            " [0.   ]\n",
            " [0.   ]\n",
            " [0.   ]]\n",
            "Bias 3, derivatives from finite differences\n",
            "[[1.056]\n",
            " [0.096]\n",
            " [0.   ]\n",
            " [0.   ]\n",
            " [0.   ]\n",
            " [0.   ]]\n",
            "Failure!  Derivatives different.\n",
            "-----------------------------------------------\n",
            "Bias 4, derivatives from backprop:\n",
            "[[0.   ]\n",
            " [1.81 ]\n",
            " [5.709]\n",
            " [0.   ]\n",
            " [0.   ]\n",
            " [1.937]]\n",
            "Bias 4, derivatives from finite differences\n",
            "[[0.   ]\n",
            " [0.302]\n",
            " [0.952]\n",
            " [0.   ]\n",
            " [0.   ]\n",
            " [0.323]]\n",
            "Failure!  Derivatives different.\n",
            "-----------------------------------------------\n",
            "Bias 5, derivatives from backprop:\n",
            "[[ 0.52]\n",
            " [ 1.48]\n",
            " [-2.  ]]\n",
            "Bias 5, derivatives from finite differences\n",
            "[[ 0.087]\n",
            " [ 0.247]\n",
            " [-0.333]]\n",
            "Failure!  Derivatives different.\n",
            "-----------------------------------------------\n",
            "Weight 0, derivatives from backprop:\n",
            "[[ 1.167]\n",
            " [ 0.   ]\n",
            " [-0.662]\n",
            " [ 3.961]\n",
            " [-3.655]\n",
            " [ 1.305]]\n",
            "Weight 0, derivatives from finite differences\n",
            "[[ 0.195]\n",
            " [ 0.   ]\n",
            " [-0.11 ]\n",
            " [ 0.66 ]\n",
            " [-0.609]\n",
            " [ 0.217]]\n",
            "Failure!  Derivatives different.\n",
            "-----------------------------------------------\n",
            "Weight 1, derivatives from backprop:\n",
            "[[ -0.615   0.     -0.209  -0.446  -0.556   0.   ]\n",
            " [-18.45    0.     -2.759  -4.518 -14.171  -6.58 ]\n",
            " [  0.      0.      0.      0.      0.      0.   ]\n",
            " [ 30.141   0.      3.941   6.217  21.414  19.521]\n",
            " [  0.      0.      0.      0.      0.      0.   ]\n",
            " [  0.      0.      0.      0.      0.      0.   ]]\n",
            "Weight 1, derivatives from finite differences\n",
            "[[-0.102  0.    -0.035 -0.074 -0.093  0.   ]\n",
            " [-3.075  0.    -0.46  -0.753 -2.362 -1.097]\n",
            " [ 0.     0.     0.     0.     0.     0.   ]\n",
            " [ 5.023  0.     0.657  1.036  3.569  3.254]\n",
            " [ 0.     0.     0.     0.     0.     0.   ]\n",
            " [ 0.     0.     0.     0.     0.     0.   ]]\n",
            "Failure!  Derivatives different.\n",
            "-----------------------------------------------\n",
            "Weight 2, derivatives from backprop:\n",
            "[[  0.      0.      0.     -0.214   0.      0.   ]\n",
            " [ -0.06    3.842   0.      7.401   0.      0.   ]\n",
            " [ -0.048   0.      0.      3.789   0.      0.   ]\n",
            " [ -0.03    2.354   0.      3.113   0.      0.   ]\n",
            " [  0.     -7.106   0.    -10.503   0.      0.   ]\n",
            " [  0.019   1.992   0.      4.955   0.      0.   ]]\n",
            "Weight 2, derivatives from finite differences\n",
            "[[ 0.     0.     0.    -0.036  0.     0.   ]\n",
            " [-0.01   0.64   0.     1.233  0.     0.   ]\n",
            " [-0.008  0.     0.     0.632  0.     0.   ]\n",
            " [-0.005  0.392  0.     0.519  0.     0.   ]\n",
            " [ 0.    -1.184  0.    -1.751  0.     0.   ]\n",
            " [ 0.003  0.332  0.     0.826  0.     0.   ]]\n",
            "Failure!  Derivatives different.\n",
            "-----------------------------------------------\n",
            "Weight 3, derivatives from backprop:\n",
            "[[1.387e+00 1.769e+01 4.040e+00 1.473e+00 2.783e+00 2.938e+01]\n",
            " [1.156e-01 1.609e+00 4.628e-01 3.022e-02 7.893e-03 3.179e+00]\n",
            " [0.000e+00 0.000e+00 0.000e+00 0.000e+00 0.000e+00 0.000e+00]\n",
            " [0.000e+00 0.000e+00 0.000e+00 0.000e+00 0.000e+00 0.000e+00]\n",
            " [0.000e+00 0.000e+00 0.000e+00 0.000e+00 0.000e+00 0.000e+00]\n",
            " [0.000e+00 0.000e+00 0.000e+00 0.000e+00 0.000e+00 0.000e+00]]\n",
            "Weight 3, derivatives from finite differences\n",
            "[[2.312e-01 2.948e+00 6.733e-01 2.456e-01 4.638e-01 4.896e+00]\n",
            " [1.927e-02 2.682e-01 7.713e-02 5.037e-03 1.316e-03 5.299e-01]\n",
            " [0.000e+00 0.000e+00 0.000e+00 0.000e+00 0.000e+00 0.000e+00]\n",
            " [0.000e+00 0.000e+00 0.000e+00 0.000e+00 0.000e+00 0.000e+00]\n",
            " [0.000e+00 0.000e+00 0.000e+00 0.000e+00 0.000e+00 0.000e+00]\n",
            " [0.000e+00 0.000e+00 0.000e+00 0.000e+00 0.000e+00 0.000e+00]]\n",
            "Failure!  Derivatives different.\n",
            "-----------------------------------------------\n",
            "Weight 4, derivatives from backprop:\n",
            "[[ 0.     0.     0.     0.     0.     0.   ]\n",
            " [ 4.559  3.559  0.     0.     0.     0.   ]\n",
            " [14.326 11.241  0.     0.     0.     0.   ]\n",
            " [ 0.     0.     0.     0.     0.     0.   ]\n",
            " [ 0.     0.     0.     0.     0.     0.   ]\n",
            " [ 4.52   3.885  0.     0.     0.     0.   ]]\n",
            "Weight 4, derivatives from finite differences\n",
            "[[0.    0.    0.    0.    0.    0.   ]\n",
            " [0.76  0.593 0.    0.    0.    0.   ]\n",
            " [2.388 1.873 0.    0.    0.    0.   ]\n",
            " [0.    0.    0.    0.    0.    0.   ]\n",
            " [0.    0.    0.    0.    0.    0.   ]\n",
            " [0.753 0.648 0.    0.    0.    0.   ]]\n",
            "Failure!  Derivatives different.\n",
            "-----------------------------------------------\n",
            "Weight 5, derivatives from backprop:\n",
            "[[ 0.     0.275  1.695  0.     0.     0.146]\n",
            " [ 0.     1.53   4.921  0.     0.     1.704]\n",
            " [ 0.    -1.805 -6.616  0.     0.    -1.85 ]]\n",
            "Weight 5, derivatives from finite differences\n",
            "[[ 0.     0.046  0.282  0.     0.     0.024]\n",
            " [ 0.     0.255  0.82   0.     0.     0.284]\n",
            " [ 0.    -0.301 -1.103  0.     0.    -0.308]]\n",
            "Failure!  Derivatives different.\n"
          ]
        }
      ],
      "source": [
        "np.set_printoptions(precision=3)\n",
        "# Make space for derivatives computed by finite differences\n",
        "all_dl_dweights_fd = [None] * (K+1)\n",
        "all_dl_dbiases_fd = [None] * (K+1)\n",
        "\n",
        "# Let's test if we have the derivatives right using finite differences\n",
        "delta_fd = 0.000001\n",
        "\n",
        "# Test the dervatives of the bias vectors\n",
        "for layer in range(K+1):\n",
        "    dl_dbias  = np.zeros_like(all_biases[layer])\n",
        "    # For every element in the bias\n",
        "    for row in range(all_biases[layer].shape[0]):\n",
        "        # Take copy of biases.  We'll change one element each time\n",
        "        all_biases_copy = [np.array(x) for x in all_biases]\n",
        "        all_biases_copy[layer][row] += delta_fd\n",
        "        network_output_1, *_ = forward_pass(net_input, all_weights, all_biases_copy)\n",
        "        network_output_2, *_ = forward_pass(net_input, all_weights, all_biases)\n",
        "        dl_dbias[row] = (compute_cost(network_output_1, y) - compute_cost(network_output_2,y))/delta_fd\n",
        "    all_dl_dbiases_fd[layer] = np.array(dl_dbias)\n",
        "    print(\"-----------------------------------------------\")\n",
        "    print(\"Bias %d, derivatives from backprop:\"%(layer))\n",
        "    print(all_dl_dbiases[layer])\n",
        "    print(\"Bias %d, derivatives from finite differences\"%(layer))\n",
        "    print(all_dl_dbiases_fd[layer])\n",
        "    if np.allclose(all_dl_dbiases_fd[layer],all_dl_dbiases[layer],rtol=1e-03, atol=1e-07, equal_nan=False):\n",
        "        print(\"Success!  Derivatives match.\")\n",
        "    else:\n",
        "        print(\"Failure!  Derivatives different.\")\n",
        "\n",
        "\n",
        "\n",
        "# Test the derivatives of the weights matrices\n",
        "for layer in range(K+1):\n",
        "    dl_dweight  = np.zeros_like(all_weights[layer])\n",
        "    # For every element in the bias\n",
        "    for row in range(all_weights[layer].shape[0]):\n",
        "        for col in range(all_weights[layer].shape[1]):\n",
        "            # Take copy of biases. We'll change one element each time\n",
        "            all_weights_copy = [np.array(x) for x in all_weights]\n",
        "            all_weights_copy[layer][row][col] += delta_fd\n",
        "            network_output_1, *_ = forward_pass(net_input, all_weights_copy, all_biases)\n",
        "            network_output_2, *_ = forward_pass(net_input, all_weights, all_biases)\n",
        "            dl_dweight[row][col] = (compute_cost(network_output_1, y) - compute_cost(network_output_2,y))/delta_fd\n",
        "    all_dl_dweights_fd[layer] = np.array(dl_dweight)\n",
        "    print(\"-----------------------------------------------\")\n",
        "    print(\"Weight %d, derivatives from backprop:\"%(layer))\n",
        "    print(all_dl_dweights[layer])\n",
        "    print(\"Weight %d, derivatives from finite differences\"%(layer))\n",
        "    print(all_dl_dweights_fd[layer])\n",
        "    if np.allclose(all_dl_dweights_fd[layer],all_dl_dweights[layer],rtol=1e-03, atol=1e-07, equal_nan=False):\n",
        "        print(\"Success!  Derivatives match.\")\n",
        "    else:\n",
        "        print(\"Failure!  Derivatives different.\")"
      ]
    }
  ],
  "metadata": {
    "anaconda-cloud": {},
    "celltoolbar": "Tags",
    "colab": {
      "provenance": [],
      "include_colab_link": true
    },
    "kernelspec": {
      "display_name": "Python 3",
      "language": "python",
      "name": "python3"
    },
    "language_info": {
      "codemirror_mode": {
        "name": "ipython",
        "version": 3
      },
      "file_extension": ".py",
      "mimetype": "text/x-python",
      "name": "python",
      "nbconvert_exporter": "python",
      "pygments_lexer": "ipython3",
      "version": "3.7.7"
    }
  },
  "nbformat": 4,
  "nbformat_minor": 0
}