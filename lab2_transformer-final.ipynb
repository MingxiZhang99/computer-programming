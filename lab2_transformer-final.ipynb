{
  "cells": [
    {
      "cell_type": "markdown",
      "metadata": {
        "id": "view-in-github",
        "colab_type": "text"
      },
      "source": [
        "<a href=\"https://colab.research.google.com/github/MingxiZhang99/computer-programming/blob/main/lab2_transformer-final.ipynb\" target=\"_parent\"><img src=\"https://colab.research.google.com/assets/colab-badge.svg\" alt=\"Open In Colab\"/></a>"
      ]
    },
    {
      "cell_type": "markdown",
      "id": "a2f0d3a9",
      "metadata": {
        "tags": [],
        "id": "a2f0d3a9"
      },
      "source": [
        "# Deep learning lab 2: Transformers and self-attention\n",
        "\n",
        "The goal of this lab is that you get some hands on experience with the transformer architecture. In the first part of the lab we will work with the self-attention mechanism and implement it in pytorch. For this part the content from the first Lecture on Transformers is sufficient. In the second part we will train two different transformer architectures with different tasks. In the outro session of the lab you are asked to present the solution to the questions of the lab to the teachers."
      ]
    },
    {
      "cell_type": "code",
      "execution_count": 1,
      "id": "3f63fa22",
      "metadata": {
        "tags": [],
        "id": "3f63fa22"
      },
      "outputs": [],
      "source": [
        "import numpy as np\n",
        "import torch\n",
        "import torch.nn as nn"
      ]
    },
    {
      "cell_type": "markdown",
      "id": "7c3ac4d1",
      "metadata": {
        "tags": [],
        "id": "7c3ac4d1"
      },
      "source": [
        "An important part of the Transformer architecture is the fully-connected neural network which we have seen in Assignment and Lab 1. Typically, a neural network with one hidden layer is used for this with the hidden dimension being 4 times larger than the input/output dimension. We use the GeLU non-linear activation function, which is a smoothed out version of the ReLU function you have seen in the previous sessions, for the non-linearity as it is the default choice for Transformer layers. By now, you should be familiar with this general architecture and understand the implementation below."
      ]
    },
    {
      "cell_type": "code",
      "execution_count": 2,
      "id": "1a7e9889",
      "metadata": {
        "tags": [],
        "id": "1a7e9889"
      },
      "outputs": [],
      "source": [
        "class MLP(torch.nn.Module):\n",
        "    def __init__(self, input_dimension):\n",
        "        super().__init__()\n",
        "        self.c_fc = torch.nn.Linear(input_dimension, 4 * input_dimension)\n",
        "        self.gelu = torch.nn.GELU(approximate='tanh')\n",
        "        self.c_proj = torch.nn.Linear(4 * input_dimension, input_dimension)\n",
        "\n",
        "    def forward(self, x):\n",
        "        x = self.c_fc(x)\n",
        "        x = self.gelu(x)\n",
        "        x = self.c_proj(x)\n",
        "        return x"
      ]
    },
    {
      "cell_type": "markdown",
      "id": "06aa1a1d",
      "metadata": {
        "tags": [],
        "id": "06aa1a1d"
      },
      "source": [
        "## Part 1: Self-attention mechanism\n",
        "\n",
        "The self-attention mechanism in matrix form is given by the following equations. For more details you can check Section 12.2.4 in the course book.\n",
        "\n",
        "$$\n",
        "\\mathbf{Sa}[\\mathbf{X}] = \\mathbf{V}[\\mathbf{X}] \\cdot \\mathbf{Softmax} \\left[ \\mathbf{K}[\\mathbf{X}]^T \\mathbf{Q}[\\mathbf{X}] \\right]\n",
        "$$\n",
        "\n",
        "where $\\mathbf{Q[X]}$, $\\mathbf{K[X]}$, $\\mathbf{V[X]}$ are the Key, Query and Value matrices given by linear transformations of the input $x$ to the layer:\n",
        "\n",
        "\\begin{align}\n",
        "\\mathbf{Q}[\\mathbf{X}] = \\mathbf{\\beta_q 1^T + \\Omega_q X} \\\\\n",
        "\\mathbf{K}[\\mathbf{X}] = \\mathbf{\\beta_k 1^T + \\Omega_k X} \\\\\n",
        "\\mathbf{V}[\\mathbf{X}] = \\mathbf{\\beta_v 1^T + \\Omega_v X}\n",
        "\\end{align}\n",
        "\n",
        "Similar to the book, we do not include the dependence of $\\mathbf{Q}$, $\\mathbf{K}$, $\\mathbf{V}$ on the input $\\mathbf{X}$ in the following. Note in particular that the input and output dimensions are the same for the layer.\n",
        "\n",
        "![image.png](attachment:image.png)\n",
        "\n",
        "When implementing the architecture in pytorch, we rely on the transposed version of the self-attention since we additionally have a batch dimension. The input itself is usually of dimension $(B, N, D)$ where $B$ is the batch size, $N$ is the number of tokens / elements in the sequence and $D$ is the dimensionality of the input also refred to as input embedding.\n",
        "In its transposed form, the self-attention mechanism can be written as:\n",
        "\n",
        "$$\n",
        "\\mathbf{Sa}[\\mathcal{X}] = \\mathbf{Softmax} \\left[\\mathcal{Q}[\\mathcal{X}]  \\mathcal{K}[\\mathcal{X}]^T \\right] \\cdot \\mathcal{V}[\\mathcal{X}]\n",
        "$$\n",
        "\n",
        "which is the transposed version of the equation shown above where $\\mathcal{X}$ is the input tensor of size $N \\times D$. The softmax operation above should be applied row-wise in this case. For an efficient implementation, use the transposed formulation above when implementing the modules in the lab.\n",
        "This forumlation also allows us to easily parallelize over multiple batches by including the batch dimension as the first dimension of the input tensor. PyTorch parallelizes over the leading dimensions the standard operations using broadcasting.\n",
        "\n",
        "**Task 1**: In the init method of the single-head self attention, create the parameterized layers that are required to compute the output of the mechanism described above.\n",
        "\n",
        "**Task 2**: Write the forward pass of the module to implement the self-attention mechanism. Return both the output tokens as well as the attention matrix itself as a second return argument.\n",
        "\n",
        "_Hints_:\n",
        "- Learned matrix-vector products can be efficiently implemented using linear layers using torch.nn.Linear.\n",
        "- When using a transformer, the input usually is a tensor of size (batch_size, num_tokens, embedding_size) = $(B, N, D)$ so be careful when transposing tensors. Using the function .transpose() you can pass the dimensions you want to transpose as an input argument."
      ]
    },
    {
      "cell_type": "code",
      "execution_count": 3,
      "id": "01a84ecb",
      "metadata": {
        "tags": [],
        "id": "01a84ecb"
      },
      "outputs": [],
      "source": [
        "class SingleHeadSelfAttention(torch.nn.Module):\n",
        "\n",
        "    def __init__(self, embedding_dimension):\n",
        "        super().__init__()\n",
        "        # TODO: implement the key, query and value operators using torch.nn.Linear\n",
        "        self.key = torch.nn.Linear(embedding_dimension, embedding_dimension)\n",
        "        self.query = torch.nn.Linear(embedding_dimension, embedding_dimension)\n",
        "        self.value = torch.nn.Linear(embedding_dimension, embedding_dimension)\n",
        "\n",
        "\n",
        "\n",
        "    def forward(self, x):\n",
        "        # TODO: implement forward pass here\n",
        "\n",
        "        keys = self.key(x)\n",
        "        queries = self.query(x)\n",
        "        values = self.value(x)\n",
        "        # compute the scaled dot product attention\n",
        "        # attention = softmax(queries @ keys.T / sqrt(embedding_dimension)) @ values\n",
        "        attention = torch.matmul(queries, keys.transpose(1, 2)) / np.sqrt(x.shape[-1])\n",
        "        attention = torch.nn.functional.softmax(attention, dim=-1)\n",
        "        x = torch.matmul(attention, values)\n",
        "        # return the new tokens and the attention matrix\n",
        "        return x, attention\n"
      ]
    },
    {
      "cell_type": "code",
      "execution_count": 4,
      "id": "3dc2f903",
      "metadata": {
        "tags": [],
        "id": "3dc2f903"
      },
      "outputs": [],
      "source": [
        "# Create a single head self-attention layer with embedding size 32\n",
        "sa = SingleHeadSelfAttention(32)\n",
        "\n",
        "# create a normally distributed vectors\n",
        "# vector x is of size (BATCHSIZE, NUM_TOKENS, EMBEDDING_SIZE) = (B, N, D)\n",
        "x = torch.empty((2, 10, 32)).normal_()\n",
        "out, att = sa(x)"
      ]
    },
    {
      "cell_type": "markdown",
      "id": "4243efed",
      "metadata": {
        "tags": [],
        "id": "4243efed"
      },
      "source": [
        "**Question 1**: What size is the attention matrix that gets returned by the single-head layer? What constraints must the attention matrix and its elements fulfill in terms of the attention matrix size and the values that the elements in the matrix take?\n",
        "\n",
        "_Hint_: you can look at the following easy checks that verify the constraints of the computed attention matrices."
      ]
    },
    {
      "cell_type": "code",
      "execution_count": 5,
      "id": "af4865da",
      "metadata": {
        "tags": [],
        "colab": {
          "base_uri": "https://localhost:8080/"
        },
        "id": "af4865da",
        "outputId": "7f889465-6ce6-49f5-da2b-55c5fdcdcedb"
      },
      "outputs": [
        {
          "output_type": "execute_result",
          "data": {
            "text/plain": [
              "torch.Size([2, 10, 10])"
            ]
          },
          "metadata": {},
          "execution_count": 5
        }
      ],
      "source": [
        "# the attention matrix should be of size (B, N, N)\n",
        "att.shape"
      ]
    },
    {
      "cell_type": "code",
      "execution_count": 6,
      "id": "74e8e78d",
      "metadata": {
        "tags": [],
        "colab": {
          "base_uri": "https://localhost:8080/"
        },
        "id": "74e8e78d",
        "outputId": "f760f0bf-bb6c-4e79-c9dc-138b65a112d2"
      },
      "outputs": [
        {
          "output_type": "execute_result",
          "data": {
            "text/plain": [
              "(tensor([], dtype=torch.int64),\n",
              " tensor([], dtype=torch.int64),\n",
              " tensor([], dtype=torch.int64))"
            ]
          },
          "metadata": {},
          "execution_count": 6
        }
      ],
      "source": [
        "# all elements in the attention matrix should be non-negative\n",
        "torch.where(att < 0)"
      ]
    },
    {
      "cell_type": "code",
      "execution_count": 7,
      "id": "4c615257",
      "metadata": {
        "tags": [],
        "colab": {
          "base_uri": "https://localhost:8080/"
        },
        "id": "4c615257",
        "outputId": "2d356d50-8323-4af0-a038-402a09308c07"
      },
      "outputs": [
        {
          "output_type": "execute_result",
          "data": {
            "text/plain": [
              "tensor([[1.0000, 1.0000, 1.0000, 1.0000, 1.0000, 1.0000, 1.0000, 1.0000, 1.0000,\n",
              "         1.0000],\n",
              "        [1.0000, 1.0000, 1.0000, 1.0000, 1.0000, 1.0000, 1.0000, 1.0000, 1.0000,\n",
              "         1.0000]], grad_fn=<SumBackward1>)"
            ]
          },
          "metadata": {},
          "execution_count": 7
        }
      ],
      "source": [
        "# the rows in the attention matrix should sum to one\n",
        "torch.sum(att, dim=-1)"
      ]
    },
    {
      "cell_type": "markdown",
      "id": "465877bc",
      "metadata": {
        "tags": [],
        "id": "465877bc"
      },
      "source": [
        "Now, we have managed to implement the heart of the transformer -- the self-attention mechamism. In the following, we will extend the architecture to include normalization, multiple attention heads, and passing the results through non-linear MLPs."
      ]
    },
    {
      "cell_type": "markdown",
      "id": "cda4f387",
      "metadata": {
        "tags": [],
        "id": "cda4f387"
      },
      "source": [
        "In the cell below, you can see a visualization of the attention matrix of the initalized transformer.\n",
        "\n",
        "**Question 2**: What can you observe about the distribution of attention scores? Why is this problem arising and how can we avoid this?"
      ]
    },
    {
      "cell_type": "code",
      "execution_count": 8,
      "id": "a7391ca7",
      "metadata": {
        "tags": [],
        "colab": {
          "base_uri": "https://localhost:8080/",
          "height": 430
        },
        "id": "a7391ca7",
        "outputId": "b9b00e78-010f-4bea-bb4d-badab203909b"
      },
      "outputs": [
        {
          "output_type": "display_data",
          "data": {
            "text/plain": [
              "<Figure size 640x480 with 1 Axes>"
            ],
            "image/png": "[encoded data removed]"
          },
          "metadata": {}
        }
      ],
      "source": [
        "import matplotlib.pyplot as plt\n",
        "\n",
        "plt.imshow(att[0].detach().numpy())\n",
        "plt.show()"
      ]
    },
    {
      "cell_type": "markdown",
      "id": "b63a6611",
      "metadata": {
        "tags": [],
        "id": "b63a6611"
      },
      "source": [
        "**Task 3**: This scaling problem arises from the fact that the softmax function can quickly focus on a single maximum value, causing all other components to become very small. In order to fix the scaling of the attention matrix and make training easier, add the scaling constant given in the book in equation (12.9) to the forward pass of the single-head self-attention layer. How does the attention map look after normalizing the attention step?"
      ]
    },
    {
      "cell_type": "markdown",
      "id": "aacee10e",
      "metadata": {
        "tags": [],
        "id": "aacee10e"
      },
      "source": [
        "**Task 4**: In practice, using the single-head self-attention is usually not sufficient to get good performance of the model. Instead, we implement a **multi-head self-attention** next. Therefore, you need to add an additional hyper-parameter to the module which allows us to specify the number of attention heads we want to use.\n",
        "Implement the multi-head attention in the code cell below:\n",
        "\n",
        "_Hints_:\n",
        "- Note that you can use the same parameterization for the multi-head attention as for the single head case in the init function for the query, key and value transformations.\n",
        "- You need to add an additional linear transformation to combine the results from the different heads after the self-attention steps.\n",
        "- After computing the key, queries, and values you should reshape the results in a 4d tensor of size $(B, N, H, D / H)$ where $H$ is the number of heads in your self-attention model.\n",
        "- Since we want to parallelize the computations over the batch dimension and the number of heads, we want to reshape the tensor such that these dimensions are in the front dimensions. Don't forget to reshuffle again before you bring the output in the final form which is the same as the input itself.\n",
        "\n",
        "![image.png](attachment:image.png)"
      ]
    },
    {
      "cell_type": "code",
      "execution_count": 9,
      "id": "e02b39b7",
      "metadata": {
        "tags": [],
        "id": "e02b39b7"
      },
      "outputs": [],
      "source": [
        "class MultiHeadSelfAttention(torch.nn.Module):\n",
        "\n",
        "    def __init__(self, num_heads, embedding_dimension):\n",
        "\n",
        "        super().__init__()\n",
        "        assert embedding_dimension % num_heads == 0\n",
        "        self.num_heads = num_heads\n",
        "\n",
        "        # TODO: add key, query and value transformations using torch.nn.Linear\n",
        "        # TODO: add the final projection transformation\n",
        "        self.key = torch.nn.Linear(embedding_dimension, embedding_dimension)\n",
        "        self.query = torch.nn.Linear(embedding_dimension, embedding_dimension)\n",
        "        self.value = torch.nn.Linear(embedding_dimension, embedding_dimension)\n",
        "        self.proj = torch.nn.Linear(embedding_dimension, embedding_dimension)\n",
        "\n",
        "    def forward(self, x):\n",
        "        # (batch_size, num_tokens, embedding_dimension)\n",
        "        B, N, D = x.size()\n",
        "        # TODO: compute the key, queries and values for the input then reshape the result and compute the scaled self-attention mechanism\n",
        "        keys = self.key(x)\n",
        "        queries = self.query(x)\n",
        "        values = self.value(x)\n",
        "        keys = keys.view(B, N, self.num_heads, D // self.num_heads).transpose(1, 2)\n",
        "        queries = queries.view(B, N, self.num_heads, D // self.num_heads).transpose(1, 2)\n",
        "        values = values.view(B, N, self.num_heads, D // self.num_heads).transpose(1, 2)\n",
        "        attention = torch.matmul(queries, keys.transpose(2, 3)) / np.sqrt(D // self.num_heads)\n",
        "        attention = torch.nn.functional.softmax(attention, dim=-1)\n",
        "        x = torch.matmul(attention, values)\n",
        "        x = x.transpose(1, 2).reshape(B, N, D)\n",
        "        x = self.proj(x)\n",
        "        att = attention\n",
        "        # return the new tokens and the attention matrix\n",
        "        return x, att\n"
      ]
    },
    {
      "cell_type": "code",
      "execution_count": 10,
      "id": "3e017648",
      "metadata": {
        "tags": [],
        "id": "3e017648"
      },
      "outputs": [],
      "source": [
        "sa = MultiHeadSelfAttention(4, 32)\n",
        "\n",
        "# we create a normally distributed vectors\n",
        "# vector x is of size (BATCHSIZE, NUM_TOKENS, EMBEDDING_DIMENSION) = (B, N, D)\n",
        "x = torch.empty((2, 10, 32)).normal_()\n",
        "out, att = sa(x)"
      ]
    },
    {
      "cell_type": "code",
      "execution_count": 11,
      "id": "6fcafcf3",
      "metadata": {
        "tags": [],
        "colab": {
          "base_uri": "https://localhost:8080/"
        },
        "id": "6fcafcf3",
        "outputId": "dfcaeb51-0e2a-41c6-ddbf-8848369ebc99"
      },
      "outputs": [
        {
          "output_type": "execute_result",
          "data": {
            "text/plain": [
              "torch.Size([2, 10, 32])"
            ]
          },
          "metadata": {},
          "execution_count": 11
        }
      ],
      "source": [
        "# check the output dimension, expected: (B, N, D)\n",
        "out.shape"
      ]
    },
    {
      "cell_type": "code",
      "execution_count": 12,
      "id": "d7202ef9",
      "metadata": {
        "tags": [],
        "colab": {
          "base_uri": "https://localhost:8080/"
        },
        "id": "d7202ef9",
        "outputId": "5595b3ff-2718-4534-cf26-6a017c943a2c"
      },
      "outputs": [
        {
          "output_type": "execute_result",
          "data": {
            "text/plain": [
              "torch.Size([2, 4, 10, 10])"
            ]
          },
          "metadata": {},
          "execution_count": 12
        }
      ],
      "source": [
        "# check the shape of the attention matrix, expected: (B, H, N, N)\n",
        "att.shape"
      ]
    },
    {
      "cell_type": "markdown",
      "id": "c50217fd",
      "metadata": {
        "tags": [],
        "id": "c50217fd"
      },
      "source": [
        "Next, we want to combine the just implemented self-attention block with additional non-linearities in order to get a Transformer Block which consists of layer norms, self-attention and a multi-layer perceptron as shown in the Figure below:\n",
        "\n",
        "![image.png](attachment:image.png)\n",
        "\n",
        "Note that the batch dimension is not shown in this figure."
      ]
    },
    {
      "cell_type": "markdown",
      "id": "a5ed1259",
      "metadata": {
        "tags": [],
        "id": "a5ed1259"
      },
      "source": [
        "**Task 5**: Implement the forward pass in the transformer encoder block in the function below. Note that the just implemented attention mechanism returns two arguments the first one being the output of the transformer and the second one the attention matrix that we keep for visualization purposes."
      ]
    },
    {
      "cell_type": "code",
      "execution_count": 13,
      "id": "faefb3f3",
      "metadata": {
        "tags": [],
        "id": "faefb3f3"
      },
      "outputs": [],
      "source": [
        "class EncoderBlock(torch.nn.Module):\n",
        "    def __init__(self, num_heads, embedding_dimension):\n",
        "        super().__init__()\n",
        "        self.ln1 = torch.nn.LayerNorm(embedding_dimension)\n",
        "        self.attn = MultiHeadSelfAttention(num_heads, embedding_dimension)\n",
        "        self.ln2 = torch.nn.LayerNorm(embedding_dimension)\n",
        "        self.mlp = MLP(embedding_dimension)\n",
        "\n",
        "    def forward(self, x):\n",
        "        att, att_w = self.attn(x)\n",
        "        # TODO: implement the forward pass and return the output and the attention matrix\n",
        "        x = x + att\n",
        "        x = self.ln1(x)\n",
        "        x = x + self.mlp(x)\n",
        "        x = self.ln2(x)\n",
        "\n",
        "\n",
        "        return x, att_w\n"
      ]
    },
    {
      "cell_type": "code",
      "execution_count": 14,
      "id": "7680936d",
      "metadata": {
        "tags": [],
        "colab": {
          "base_uri": "https://localhost:8080/"
        },
        "id": "7680936d",
        "outputId": "4df0b4be-0024-4608-826f-26559f5bb439"
      },
      "outputs": [
        {
          "output_type": "stream",
          "name": "stdout",
          "text": [
            "torch.Size([2, 10, 32])\n"
          ]
        }
      ],
      "source": [
        "encoder = EncoderBlock(2, 32)\n",
        "\n",
        "x = torch.empty((2, 10, 32)).normal_()\n",
        "out, att = encoder(x)\n",
        "\n",
        "# the output should have the same shape as the input x\n",
        "print(out.shape)"
      ]
    },
    {
      "cell_type": "markdown",
      "id": "67329d91",
      "metadata": {
        "tags": [],
        "id": "67329d91"
      },
      "source": [
        "**Question 3**: How many parameters does each part of the transformer block have for an embedding dimension of 100?"
      ]
    },
    {
      "cell_type": "markdown",
      "id": "7513d124",
      "metadata": {
        "tags": [],
        "id": "7513d124"
      },
      "source": [
        "## Part 2a: Sequence-to-sequence task - reversing a list\n",
        "\n",
        "We start with a basic example of a sequence-to-sequence task.\n",
        "Similar problems arise for example in machine translation and text summarization.\n",
        "However, here we consider an even simpler problem of reversing an input sequence.\n",
        "\n",
        "The input consists of $N$ numbers between 0 and $M$, each serving as an input token to the Transformer. We can simply represent each of the inputs as a one-hot encoding of the number using a $M$-dimensional vector. Even though this sounds like a very simple task, RNNs and other architectures can have issues with this due to the long range dependencies."
      ]
    },
    {
      "cell_type": "code",
      "execution_count": 15,
      "id": "ce861d0b",
      "metadata": {
        "tags": [],
        "id": "ce861d0b"
      },
      "outputs": [],
      "source": [
        "import torch.utils.data as data\n",
        "from functools import partial\n",
        "\n",
        "class ReverseDataset(data.Dataset):\n",
        "\n",
        "    def __init__(self, num_categories, seq_len, size):\n",
        "        super().__init__()\n",
        "        self.num_categories = num_categories\n",
        "        self.seq_len = seq_len\n",
        "        self.size = size\n",
        "\n",
        "        self.data = torch.randint(self.num_categories, size=(self.size, self.seq_len))\n",
        "\n",
        "    def __len__(self):\n",
        "        return self.size\n",
        "\n",
        "    def __getitem__(self, idx):\n",
        "        inp_data = self.data[idx]\n",
        "        labels = torch.flip(inp_data, dims=(0,))\n",
        "        return inp_data, labels\n",
        "\n",
        "# hyper-parameters for the dataset\n",
        "num_classes = 10\n",
        "sequence_len = 16\n",
        "\n",
        "# creating a dataset\n",
        "dataset = partial(ReverseDataset, num_classes, sequence_len)\n",
        "train_loader = data.DataLoader(dataset(50_000), batch_size=128, shuffle=True, drop_last=True, pin_memory=True)\n",
        "val_loader   = data.DataLoader(dataset(1_000), batch_size=128)\n",
        "test_loader  = data.DataLoader(dataset(10_000), batch_size=128)"
      ]
    },
    {
      "cell_type": "markdown",
      "id": "99e795a8",
      "metadata": {
        "tags": [],
        "id": "99e795a8"
      },
      "source": [
        "Here is an example sequence from the dataset with the correctly reversed labels."
      ]
    },
    {
      "cell_type": "code",
      "execution_count": 16,
      "id": "e07f61bf",
      "metadata": {
        "tags": [],
        "colab": {
          "base_uri": "https://localhost:8080/"
        },
        "id": "e07f61bf",
        "outputId": "b7a55a7d-f511-42f2-b96f-cebb61783279"
      },
      "outputs": [
        {
          "output_type": "stream",
          "name": "stdout",
          "text": [
            "Input data: tensor([4, 4, 2, 9, 8, 1, 5, 3, 8, 7, 7, 7, 1, 2, 1, 9])\n",
            "Labels:     tensor([9, 1, 2, 1, 7, 7, 7, 8, 3, 5, 1, 8, 9, 2, 4, 4])\n"
          ]
        }
      ],
      "source": [
        "inp_data, labels = train_loader.dataset[0]\n",
        "print(\"Input data:\", inp_data)\n",
        "print(\"Labels:    \", labels)"
      ]
    },
    {
      "cell_type": "markdown",
      "id": "bf7a21df",
      "metadata": {
        "jp-MarkdownHeadingCollapsed": true,
        "tags": [],
        "id": "bf7a21df"
      },
      "source": [
        "Next, we create a encoder architecture to reverse the list which simply consists of several encoder blocks implemented in the previous section.\n",
        "\n",
        "**Question 4**: Why are we using an encoder here instead of a decoder or an encoder-decoder architecture?\n",
        "\n",
        "**Task 6**: In addition to the transformer blocks, we need a predictive network that transforms the network output into the predictions. Implement a neural network with one hidden layer with the given hidden dimesion that takes the output from the last encoder block and predicts the token at each position. You can implement this using a sequential list of modules as started in the code below. Aditionally, we need to add a positional encoding for the network to know the position of the elements in the sequence. This is already implemented in the code below."
      ]
    },
    {
      "cell_type": "code",
      "execution_count": 17,
      "id": "bd4d5943",
      "metadata": {
        "tags": [],
        "id": "bd4d5943"
      },
      "outputs": [],
      "source": [
        "class TransformerEncoder(torch.nn.Module):\n",
        "\n",
        "    def __init__(self, num_layers, sequence_length, num_heads, embedding_dimension):\n",
        "        super().__init__()\n",
        "\n",
        "        self.layers = torch.nn.ModuleList([EncoderBlock(num_heads, embedding_dimension) for _ in range(num_layers)])\n",
        "        self.sequence_length = sequence_length\n",
        "        self.embedding_dimension = embedding_dimension\n",
        "        hidden_dimension = 100\n",
        "        self.predictor = torch.nn.Sequential(\n",
        "            # TODO: write a non-linear prediction network here\n",
        "            nn.Linear(embedding_dimension, hidden_dimension),\n",
        "            nn.ReLU(),\n",
        "            nn.Linear(hidden_dimension, embedding_dimension)\n",
        "        )\n",
        "\n",
        "        # positional encoding\n",
        "        self.pe = torch.nn.Embedding(sequence_length, embedding_dimension)\n",
        "    def forward(self, x):\n",
        "        atts = []\n",
        "\n",
        "        # positional encodings\n",
        "        pos_encodings = self.pe(torch.arange(self.sequence_length).unsqueeze(0))\n",
        "        #print(x.shape, pos_encodings.shape)\n",
        "        x = x + pos_encodings\n",
        "\n",
        "        # forward pass\n",
        "        for l in self.layers:\n",
        "            x, w = l(x)\n",
        "            atts.append(w.detach())\n",
        "\n",
        "        x = self.predictor(x)\n",
        "        return x, atts\n"
      ]
    },
    {
      "cell_type": "markdown",
      "id": "764a4bad",
      "metadata": {
        "tags": [],
        "id": "764a4bad"
      },
      "source": [
        "In the function below, we compute the loss function for the task. We use a one-hot encoding for the different numbers in the list and compute the cross entropy loss to classiy the predictions at each position of the reversed list correctly."
      ]
    },
    {
      "cell_type": "code",
      "execution_count": 18,
      "id": "13d40496",
      "metadata": {
        "tags": [],
        "id": "13d40496"
      },
      "outputs": [],
      "source": [
        "def compute_loss(model, batch):\n",
        "    inp_data, labels = batch\n",
        "    # forward pass and loss function\n",
        "    inp_data = torch.nn.functional.one_hot(inp_data, num_classes=num_classes).float()\n",
        "    output, _ = model(inp_data)\n",
        "    loss = torch.nn.functional.cross_entropy(output.view(-1, output.size(-1)), labels.view(-1))\n",
        "\n",
        "    acc = (output.argmax(dim=-1) == labels).float().mean()\n",
        "    return loss, acc"
      ]
    },
    {
      "cell_type": "markdown",
      "id": "b8e22d96",
      "metadata": {
        "tags": [],
        "id": "b8e22d96"
      },
      "source": [
        "Next, we use the loss function to train our model. This training loop follows the standard mechanism you should be familar with at this stage from the previous assignments and labs. Training this model should only take a few minutes."
      ]
    },
    {
      "cell_type": "code",
      "execution_count": 19,
      "id": "f4739efd",
      "metadata": {
        "tags": [],
        "id": "f4739efd"
      },
      "outputs": [],
      "source": [
        "# using a one layer with two heads\n",
        "encoder_model = TransformerEncoder(num_layers=1, num_heads=2, embedding_dimension=num_classes, sequence_length=sequence_len)\n",
        "optimizer = torch.optim.AdamW(encoder_model.parameters())\n",
        "num_epochs = 10\n",
        "\n",
        "losses = []\n",
        "accs = []\n",
        "\n",
        "# loop over the epochs and training data\n",
        "for e in range(num_epochs):\n",
        "    encoder_model.train()\n",
        "\n",
        "    for b in train_loader:\n",
        "        optimizer.zero_grad()\n",
        "        loss, acc = compute_loss(encoder_model, b)\n",
        "        loss.backward()\n",
        "        optimizer.step()\n",
        "\n",
        "        # logging\n",
        "        losses.append(loss.item())\n",
        "        accs.append(acc)"
      ]
    },
    {
      "cell_type": "markdown",
      "id": "67f412d0",
      "metadata": {
        "tags": [],
        "id": "67f412d0"
      },
      "source": [
        "Below, we can see the loss function and the accuracy for the training performance of the network.\n",
        "\n",
        "Your final model should reach a performance of 100% on the test data as the considered task is quite easy. You might need to increase the number of heads to get a good performance."
      ]
    },
    {
      "cell_type": "code",
      "execution_count": 20,
      "id": "3bbf612b",
      "metadata": {
        "tags": [],
        "colab": {
          "base_uri": "https://localhost:8080/",
          "height": 391
        },
        "id": "3bbf612b",
        "outputId": "dc4dc6d9-34b1-412a-9667-643fe2dd9374"
      },
      "outputs": [
        {
          "output_type": "display_data",
          "data": {
            "text/plain": [
              "<Figure size 1000x400 with 2 Axes>"
            ],
            "image/png": "[encoded data removed]"
          },
          "metadata": {}
        }
      ],
      "source": [
        "fig, axes = plt.subplots(nrows=1, ncols=2, figsize=(10, 4))\n",
        "\n",
        "axes[0].set_title(\"Training loss\")\n",
        "axes[0].plot(losses, alpha=0.5)\n",
        "axes[0].grid()\n",
        "\n",
        "axes[1].set_title(\"Training accuracy\")\n",
        "axes[1].plot(accs, alpha=0.5)\n",
        "axes[1].grid()\n",
        "\n",
        "plt.show()"
      ]
    },
    {
      "cell_type": "markdown",
      "id": "b43048eb",
      "metadata": {
        "tags": [],
        "id": "b43048eb"
      },
      "source": [
        "**Question 5**: What happens when removing the positional encoding from the encoder network above with the performance of the network?"
      ]
    },
    {
      "cell_type": "code",
      "execution_count": 21,
      "id": "04a98f06",
      "metadata": {
        "tags": [],
        "colab": {
          "base_uri": "https://localhost:8080/"
        },
        "id": "04a98f06",
        "outputId": "c33189ba-b400-426e-9b63-da300296bd72"
      },
      "outputs": [
        {
          "output_type": "stream",
          "name": "stdout",
          "text": [
            "Test set performance 0.9999691\n"
          ]
        }
      ],
      "source": [
        "# test the model on the unseen test data\n",
        "test_accs = []\n",
        "for b in test_loader:\n",
        "    loss, acc = compute_loss(encoder_model, b)\n",
        "    test_accs.append(acc)\n",
        "\n",
        "print(\"Test set performance\", np.mean(test_accs))"
      ]
    },
    {
      "cell_type": "code",
      "execution_count": 22,
      "id": "67670fc6",
      "metadata": {
        "tags": [],
        "colab": {
          "base_uri": "https://localhost:8080/"
        },
        "id": "67670fc6",
        "outputId": "6ba2b0f6-594c-4124-94d4-a22888546bd4"
      },
      "outputs": [
        {
          "output_type": "stream",
          "name": "stdout",
          "text": [
            "tensor([1, 2, 3, 4, 5, 6, 6, 6, 7, 1, 2, 8, 9, 5, 3, 9])\n",
            "tensor([9, 3, 5, 9, 8, 2, 1, 7, 6, 6, 6, 5, 4, 3, 2, 1])\n"
          ]
        }
      ],
      "source": [
        "# test sample...\n",
        "test = torch.Tensor([1, 2, 3, 4, 5, 6, 6, 6, 7, 1, 2, 8, 9, 5, 3, 9]).type(torch.LongTensor)\n",
        "print(test)\n",
        "test = torch.nn.functional.one_hot(test, num_classes=num_classes).float()\n",
        "\n",
        "output, att = encoder_model(test)\n",
        "\n",
        "print(torch.argmax(output.squeeze(), dim=1))"
      ]
    },
    {
      "cell_type": "markdown",
      "id": "dba28e3c",
      "metadata": {
        "tags": [],
        "id": "dba28e3c"
      },
      "source": [
        "In the cell below, you can see a visualization of the two attention matrices of the transformer encoder.\n",
        "\n",
        "**Question 6**: Can you intepret the pattern in these attention matrices?"
      ]
    },
    {
      "cell_type": "code",
      "execution_count": 23,
      "id": "732b0d40",
      "metadata": {
        "tags": [],
        "colab": {
          "base_uri": "https://localhost:8080/",
          "height": 843
        },
        "id": "732b0d40",
        "outputId": "72b296c8-ead7-428b-d9f3-88e7071ff0b6"
      },
      "outputs": [
        {
          "output_type": "display_data",
          "data": {
            "text/plain": [
              "<Figure size 640x480 with 1 Axes>"
            ],
            "image/png": "[encoded data removed]"
          },
          "metadata": {}
        },
        {
          "output_type": "display_data",
          "data": {
            "text/plain": [
              "<Figure size 640x480 with 1 Axes>"
            ],
            "image/png": "[encoded data removed]"
          },
          "metadata": {}
        }
      ],
      "source": [
        "# visualize the attention maps\n",
        "att_maps = att[0]\n",
        "\n",
        "plt.imshow(att[0][0, 0].detach().numpy())\n",
        "plt.show()\n",
        "\n",
        "plt.imshow(att[0][0, 1].detach().numpy())\n",
        "plt.show()"
      ]
    },
    {
      "cell_type": "markdown",
      "id": "9c41f4fc",
      "metadata": {
        "tags": [],
        "id": "9c41f4fc"
      },
      "source": [
        "## Part 2b: Sequence generation task\n",
        "\n",
        "In the second example, we train a decoder model to generate text. In this part of the lab we are using the tiny sheakspear dataset. It is a small dataset containing the plays by Shakespear. First, we need to obtain the data and read it in. We use every single character as an individual token. Therefore, we first find out the number of distinct characters in all the plays and then create a mapping from each character to a unique number.\n",
        "\n",
        "For this task it is also nice to use a GPU e.g. on google colab to get a faster training. However, the model can also be trained locally on a CPU and the training time should still be relativly fast."
      ]
    },
    {
      "cell_type": "code",
      "execution_count": 24,
      "id": "bc6d5023",
      "metadata": {
        "id": "bc6d5023"
      },
      "outputs": [],
      "source": [
        "import numpy as np\n",
        "import torch\n",
        "import torch.nn as nn"
      ]
    },
    {
      "cell_type": "code",
      "execution_count": 25,
      "id": "7c44f3b5-41d1-4828-bebf-b09cb2073af4",
      "metadata": {
        "editable": true,
        "tags": [],
        "id": "7c44f3b5-41d1-4828-bebf-b09cb2073af4"
      },
      "outputs": [],
      "source": [
        "device = \"cpu\" # TODO: you can change the device to cuda if you are using colab or a local graphics card."
      ]
    },
    {
      "cell_type": "markdown",
      "id": "e04498ef-bcf6-4d25-aa14-d58b4ac72fcb",
      "metadata": {
        "tags": [],
        "id": "e04498ef-bcf6-4d25-aa14-d58b4ac72fcb"
      },
      "source": [
        "Let's start by loading the data. Quickly scan the code below and verify that the functions implement the described behaviour above."
      ]
    },
    {
      "cell_type": "code",
      "execution_count": 26,
      "id": "f56ef695",
      "metadata": {
        "editable": true,
        "tags": [],
        "colab": {
          "base_uri": "https://localhost:8080/"
        },
        "id": "f56ef695",
        "outputId": "a773e2c6-4f1a-4153-fe3c-5754090ae2ae"
      },
      "outputs": [
        {
          "output_type": "stream",
          "name": "stdout",
          "text": [
            "--2025-03-03 02:44:49--  https://raw.githubusercontent.com/uu-sml/course-dl-public/refs/heads/main/Lab2/input.txt\n",
            "Resolving raw.githubusercontent.com (raw.githubusercontent.com)... 185.199.108.133, 185.199.109.133, 185.199.110.133, ...\n",
            "Connecting to raw.githubusercontent.com (raw.githubusercontent.com)|185.199.108.133|:443... connected.\n",
            "HTTP request sent, awaiting response... 200 OK\n",
            "Length: 1115394 (1.1M) [text/plain]\n",
            "Saving to: ‘input.txt’\n",
            "\n",
            "input.txt           100%[===================>]   1.06M  --.-KB/s    in 0.04s   \n",
            "\n",
            "2025-03-03 02:44:49 (25.5 MB/s) - ‘input.txt’ saved [1115394/1115394]\n",
            "\n"
          ]
        }
      ],
      "source": [
        "# load the dataset\n",
        "! wget https://raw.githubusercontent.com/uu-sml/course-dl-public/refs/heads/main/Lab2/input.txt"
      ]
    },
    {
      "cell_type": "code",
      "execution_count": 27,
      "id": "0d934496",
      "metadata": {
        "tags": [],
        "id": "0d934496"
      },
      "outputs": [],
      "source": [
        "with open('input.txt', 'r', encoding='utf-8') as f:\n",
        "    text = f.read()"
      ]
    },
    {
      "cell_type": "code",
      "execution_count": 28,
      "id": "871cba81",
      "metadata": {
        "tags": [],
        "colab": {
          "base_uri": "https://localhost:8080/",
          "height": 35
        },
        "id": "871cba81",
        "outputId": "70b4e8c6-2b24-4b68-a009-999cde0e715d"
      },
      "outputs": [
        {
          "output_type": "execute_result",
          "data": {
            "text/plain": [
              "'First Citizen:\\nBefore we proceed any further, hear me speak.\\n\\nAll:\\nSpeak, speak.\\n\\nFirst Citizen:\\nYou'"
            ],
            "application/vnd.google.colaboratory.intrinsic+json": {
              "type": "string"
            }
          },
          "metadata": {},
          "execution_count": 28
        }
      ],
      "source": [
        "# let's take a quick look at the text :)\n",
        "text[:100]"
      ]
    },
    {
      "cell_type": "code",
      "execution_count": 29,
      "id": "4a4c6849",
      "metadata": {
        "tags": [],
        "colab": {
          "base_uri": "https://localhost:8080/"
        },
        "id": "4a4c6849",
        "outputId": "f0af39a7-d4d3-4932-cae6-92083fbc331c"
      },
      "outputs": [
        {
          "output_type": "stream",
          "name": "stdout",
          "text": [
            "Using vocab size 65\n"
          ]
        }
      ],
      "source": [
        "# we do character level encoding here:\n",
        "chars = sorted(list(set(text)))\n",
        "vocab_size = len(chars)\n",
        "print(f\"Using vocab size {vocab_size}\")"
      ]
    },
    {
      "cell_type": "code",
      "execution_count": 30,
      "id": "ef100d84",
      "metadata": {
        "tags": [],
        "colab": {
          "base_uri": "https://localhost:8080/"
        },
        "id": "ef100d84",
        "outputId": "0be008ae-3a26-4738-924d-bcb473b6533f"
      },
      "outputs": [
        {
          "output_type": "stream",
          "name": "stdout",
          "text": [
            "{0: '\\n', 1: ' ', 2: '!', 3: '$', 4: '&', 5: \"'\", 6: ',', 7: '-', 8: '.', 9: '3', 10: ':', 11: ';', 12: '?', 13: 'A', 14: 'B', 15: 'C', 16: 'D', 17: 'E', 18: 'F', 19: 'G', 20: 'H', 21: 'I', 22: 'J', 23: 'K', 24: 'L', 25: 'M', 26: 'N', 27: 'O', 28: 'P', 29: 'Q', 30: 'R', 31: 'S', 32: 'T', 33: 'U', 34: 'V', 35: 'W', 36: 'X', 37: 'Y', 38: 'Z', 39: 'a', 40: 'b', 41: 'c', 42: 'd', 43: 'e', 44: 'f', 45: 'g', 46: 'h', 47: 'i', 48: 'j', 49: 'k', 50: 'l', 51: 'm', 52: 'n', 53: 'o', 54: 'p', 55: 'q', 56: 'r', 57: 's', 58: 't', 59: 'u', 60: 'v', 61: 'w', 62: 'x', 63: 'y', 64: 'z'}\n"
          ]
        }
      ],
      "source": [
        "# Create a mapping from characters to integers and back.\n",
        "stoi = { ch:i for i,ch in enumerate(chars) }\n",
        "itos = { i:ch for i,ch in enumerate(chars) }\n",
        "encode = lambda s: [stoi[c] for c in s] # Encoder: Take a string, output a list of integers\n",
        "decode = lambda l: ''.join([itos[i] for i in l]) # Decoder: take a list of integers, output a string\n",
        "\n",
        "print(itos)"
      ]
    },
    {
      "cell_type": "markdown",
      "id": "40a07dc4",
      "metadata": {
        "tags": [],
        "id": "40a07dc4"
      },
      "source": [
        "Now we can get started to implement a decoder model that we can then use for autoregressive sampling to generate new text sequences.\n",
        "\n",
        "To accomplish this, we first have to adjust the self attention module from above to use causal self attention i.e. only attend to tokens that are ahead in the sequence to them to allow us to efficiently train the model.\n",
        "\n",
        "To get started on this task, copy the code for the multi-head attention implementation in the cell blow. When computing the self-attention scores, we now want to make sure that each token only attends to tokens that come before the token itself in the sequence.\n",
        "This can be achieved by applying a triangular masking to the attention weights.\n",
        "Remember to apply the triangular masking on the unnormalized attention weights before applying the softmax function in order to make sure the columns normalize to one in the attention matrix.\n",
        "\n",
        "**Task 7**: Implement these changes by adding the masking of the self attention matrix in the forward pass in the new class below that we use for causal self-attention in the decoder that we impelment in the next step."
      ]
    },
    {
      "cell_type": "code",
      "execution_count": 31,
      "id": "665cb0c1",
      "metadata": {
        "tags": [],
        "id": "665cb0c1"
      },
      "outputs": [],
      "source": [
        "class MultiHeadCausalSelfAttention(torch.nn.Module):\n",
        "    def __init__(self, num_heads, embedding_dimension):\n",
        "        super().__init__()\n",
        "\n",
        "        # Ensure the embedding dimension is divisible by the number of heads\n",
        "        assert embedding_dimension % num_heads == 0\n",
        "        self.num_heads = num_heads\n",
        "        self.embedding_dimension = embedding_dimension\n",
        "        self.head_dim = embedding_dimension // num_heads\n",
        "\n",
        "        # Linear transformations for query, key, and value\n",
        "        self.W_q = torch.nn.Linear(embedding_dimension, embedding_dimension, bias=False)\n",
        "        self.W_k = torch.nn.Linear(embedding_dimension, embedding_dimension, bias=False)\n",
        "        self.W_v = torch.nn.Linear(embedding_dimension, embedding_dimension, bias=False)\n",
        "\n",
        "        # Final linear transformation to combine the attention heads' outputs\n",
        "        self.W_o = torch.nn.Linear(embedding_dimension, embedding_dimension, bias=False)\n",
        "\n",
        "        # Softmax for attention distribution\n",
        "        self.softmax = torch.nn.Softmax(dim=-1)\n",
        "\n",
        "    def forward(self, x):\n",
        "        \"\"\"\n",
        "        Forward pass for multi-head self-attention with masking\n",
        "\n",
        "        Args:\n",
        "            x: (B, N, D)  Input sequence (batch_size, num_tokens, embedding_dimension)\n",
        "\n",
        "        Returns:\n",
        "            output: (B, N, D)  Updated representations after attention\n",
        "            attention: (B, N, N)  Attention matrix showing the attention weights\n",
        "        \"\"\"\n",
        "        B, N, D = x.size()\n",
        "\n",
        "        # Compute Q, K, V for all heads\n",
        "        Q = self.W_q(x)  # (B, N, D)\n",
        "        K = self.W_k(x)  # (B, N, D)\n",
        "        V = self.W_v(x)  # (B, N, D)\n",
        "\n",
        "        # Reshape Q, K, V to (B, N, H, D/H) where H = num_heads\n",
        "        Q = Q.view(B, N, self.num_heads, self.head_dim)  # (B, N, H, D/H)\n",
        "        K = K.view(B, N, self.num_heads, self.head_dim)  # (B, N, H, D/H)\n",
        "        V = V.view(B, N, self.num_heads, self.head_dim)  # (B, N, H, D/H)\n",
        "\n",
        "        # Transpose to get dimensions (B, H, N, D/H)\n",
        "        Q = Q.transpose(1, 2)  # (B, H, N, D/H)\n",
        "        K = K.transpose(1, 2)  # (B, H, N, D/H)\n",
        "        V = V.transpose(1, 2)  # (B, H, N, D/H)\n",
        "\n",
        "        # Compute attention scores (scaled dot-product)\n",
        "        attention_scores = torch.matmul(Q, K.transpose(-2, -1)) / torch.sqrt(torch.tensor(self.head_dim, dtype=torch.float32))  # (B, H, N, N)\n",
        "\n",
        "        # Create a causal mask (upper triangular matrix to prevent attending to future tokens)\n",
        "        mask = torch.triu(torch.ones(N, N), diagonal=1).bool().to(x.device)  # Upper triangular mask (N x N)\n",
        "\n",
        "        # Apply the mask by setting the upper triangular values to a large negative number\n",
        "        attention_scores = attention_scores.masked_fill(mask.unsqueeze(0).unsqueeze(0), float('-inf'))\n",
        "\n",
        "        # Apply Softmax to normalize the attention scores\n",
        "        attention_matrix = self.softmax(attention_scores)  # (B, H, N, N)\n",
        "\n",
        "        # Compute weighted values using attention matrix\n",
        "        output = torch.matmul(attention_matrix, V)  # (B, H, N, D/H)\n",
        "\n",
        "        # Reshape output back to (B, N, D)\n",
        "        output = output.transpose(1, 2).contiguous().view(B, N, D)  # (B, N, D)\n",
        "\n",
        "        # Final linear transformation to project the concatenated heads back to the original embedding dimension\n",
        "        output = self.W_o(output)  # (B, N, D)\n",
        "\n",
        "        return output, attention_matrix\n"
      ]
    },
    {
      "cell_type": "markdown",
      "id": "3bf72221",
      "metadata": {
        "tags": [],
        "id": "3bf72221"
      },
      "source": [
        "A decoder block and Transformer decoder are very similar to the encoder block and the architecture but utilizes causal self-attention instead. However, we need to make some small adjustments to the task in order to get a good performance:\n",
        "- Instead of using a one-hot encodings for the tokens here, we learn an embedding for each of the 65 tokens to a vector of the embedding dimension that we can choose as a hyper-parameter. For both the positional encoding and the token embedding you should now have a torch.nn.Embedding module.\n",
        "- The final predictive networks also needs adjustment where we want to increase the hidden dimension and choose the correct output dimension. For the hidden dimension you can choose for example 4 times the embedding dimension of the network. The output dimension is equal to the number of avialble classes.\n",
        "\n",
        "**Task 8**: Implement the changes for the decoder architecture below, for this you only need to swap out the full attention in the encoder block with the masked attention module."
      ]
    },
    {
      "cell_type": "code",
      "execution_count": 32,
      "id": "88d44946",
      "metadata": {
        "editable": true,
        "tags": [],
        "id": "88d44946"
      },
      "outputs": [],
      "source": [
        "class DecoderBlock(nn.Module):\n",
        "    def __init__(self, num_heads, embedding_dimension):\n",
        "        super().__init__()\n",
        "        self.ln1 = nn.LayerNorm(embedding_dimension)\n",
        "        self.attn = MultiHeadCausalSelfAttention(num_heads, embedding_dimension)\n",
        "        self.ln2 = nn.LayerNorm(embedding_dimension)\n",
        "        self.mlp = MLP(embedding_dimension)\n",
        "\n",
        "    def forward(self, x):\n",
        "        att, att_w = self.attn(x)\n",
        "        x = x + att\n",
        "        x = self.ln1(x)\n",
        "        x = x + self.mlp(x)\n",
        "        x = self.ln2(x)\n",
        "        return x, att_w\n",
        "\n",
        "class TransformerDecoder(nn.Module):\n",
        "    def __init__(self, num_layers, num_heads, embedding_dimension, sequence_length, vocab_size=65):\n",
        "        super().__init__()\n",
        "\n",
        "        self.embedding = nn.Embedding(vocab_size, embedding_dimension)\n",
        "        self.position_embedding = nn.Embedding(sequence_length, embedding_dimension)\n",
        "\n",
        "        self.layers = nn.ModuleList([DecoderBlock(num_heads, embedding_dimension) for _ in range(num_layers)])\n",
        "        self.embedding_dimension = embedding_dimension\n",
        "        hidden_dimension = 4 * embedding_dimension\n",
        "\n",
        "        self.predictor = nn.Sequential(\n",
        "            nn.Linear(embedding_dimension, hidden_dimension),\n",
        "            nn.ReLU(),\n",
        "            nn.Linear(hidden_dimension, vocab_size)\n",
        "        )\n",
        "\n",
        "    def forward(self, x):\n",
        "        atts = []\n",
        "\n",
        "        # Token Embedding\n",
        "        x = self.embedding(x)\n",
        "\n",
        "        # Positional Encoding\n",
        "        sequence_length = x.size(1)\n",
        "        positions = torch.arange(sequence_length, device=x.device).unsqueeze(0).expand(x.size(0), sequence_length)\n",
        "        x = x + self.position_embedding(positions)\n",
        "\n",
        "        # Decoder Blocks\n",
        "        for layer in self.layers:\n",
        "            x, w = layer(x)\n",
        "            atts.append(w.detach())\n",
        "\n",
        "        # Final prediction layer\n",
        "        x = self.predictor(x)\n",
        "        return x, atts\n"
      ]
    },
    {
      "cell_type": "markdown",
      "id": "edb90fee",
      "metadata": {
        "tags": [],
        "id": "edb90fee"
      },
      "source": [
        "Now, we encode the loaded text data into numerical values and split it into training and test sets. We also implement a function to generate batches from the text data. In decoder models, the task is to predict the next token (in this case, a character) for each input. Therefore, the batch function returns the input shifted one position to the right as the target output."
      ]
    },
    {
      "cell_type": "code",
      "execution_count": 33,
      "id": "0ecc7d24",
      "metadata": {
        "tags": [],
        "id": "0ecc7d24"
      },
      "outputs": [],
      "source": [
        "# Encode the data to numerical values\n",
        "data = torch.tensor(encode(text), dtype=torch.long)\n",
        "\n",
        "# First 90% will be train, rest val\n",
        "n = int(0.9*len(data))\n",
        "train_data = data[:n]\n",
        "val_data = data[n:]\n",
        "\n",
        "# hyper-parameters\n",
        "block_size = 128\n",
        "batch_size = 64\n",
        "\n",
        "# get a batch of data\n",
        "def get_batch(split):\n",
        "    # Generate a small batch of data of inputs x and targets y\n",
        "    data = train_data if split == 'train' else val_data\n",
        "    ix = torch.randint(len(data) - block_size, (batch_size,))\n",
        "    x = torch.stack([data[i:i+block_size] for i in ix])\n",
        "    y = torch.stack([data[i+1:i+block_size+1] for i in ix])\n",
        "    x, y = x.to(device), y.to(device)\n",
        "    return x, y"
      ]
    },
    {
      "cell_type": "markdown",
      "id": "6f5cbf34",
      "metadata": {
        "tags": [],
        "id": "6f5cbf34"
      },
      "source": [
        "After the model is trained, we want to sample from it in an autoregressive manner. That means we input a sequence of tokens into the model and compute the probability distribution over the next possible token by the network output. Then we append the newly generated token to the input and repeat this sampling process for a fixed number of steps.\n",
        "\n",
        "**Task 9**: Implement the sampling in the method below. As the next token, choose the output that is predicted to be most likely by the network.\n",
        "\n",
        "_Feel free to change the default prompt to something more exciting._"
      ]
    },
    {
      "cell_type": "code",
      "execution_count": 34,
      "id": "d8d010c0",
      "metadata": {
        "tags": [],
        "id": "d8d010c0"
      },
      "outputs": [],
      "source": [
        "def sample(model, sample_length=100, prompt=\"The\"):\n",
        "    # transform the prompt to a list of indices\n",
        "    encoded_prompt = encode(prompt)\n",
        "    prompt_tensor = torch.tensor(encoded_prompt, dtype=torch.long).reshape(1, -1).to(device)\n",
        "    generated_sequence = prompt_tensor\n",
        "\n",
        "    for _ in range(sample_length):\n",
        "        # Sample the next token predicted from the decoder network.\n",
        "        next_token_logits,_= model(generated_sequence)\n",
        "\n",
        "        # Get the last token's logits\n",
        "        next_token_logits = next_token_logits[:, -1, :]\n",
        "\n",
        "        # Sample the next token from the logits\n",
        "        next_token = torch.argmax(next_token_logits, dim=-1).reshape(1, 1)\n",
        "\n",
        "        # Add the new sample to the prompt\n",
        "        generated_sequence = torch.cat((generated_sequence, next_token), dim=1)\n",
        "\n",
        "\n",
        "    # Decode the generated sequence and print it\n",
        "    generated_sequence = generated_sequence.squeeze().tolist()\n",
        "    t = decode(generated_sequence)\n",
        "    print(t)\n"
      ]
    },
    {
      "cell_type": "markdown",
      "id": "e4cd363a",
      "metadata": {
        "tags": [],
        "id": "e4cd363a"
      },
      "source": [
        "We can check if the sampling function works in principal by creating a model and sampling from the output. Since the model is not trained yet, the output will be just a collection of random letters here."
      ]
    },
    {
      "cell_type": "code",
      "execution_count": 35,
      "id": "671e62ba",
      "metadata": {
        "tags": [],
        "colab": {
          "base_uri": "https://localhost:8080/"
        },
        "id": "671e62ba",
        "outputId": "68975e9e-a756-43fa-ae68-1ea6b8d18b4b"
      },
      "outputs": [
        {
          "output_type": "stream",
          "name": "stdout",
          "text": [
            "TheygFV!PttWTDtDLLbtFFn\n"
          ]
        }
      ],
      "source": [
        "# sequence length is the maximum length an input sequence can have.\n",
        "transformer = TransformerDecoder(num_layers=3, num_heads=8, embedding_dimension=512, sequence_length=256)\n",
        "#print(transformer)\n",
        "transformer.to(device)\n",
        "# check if the model forward pass and sampling\n",
        "sample(transformer, sample_length=20)"
      ]
    },
    {
      "cell_type": "markdown",
      "id": "3f1ba546",
      "metadata": {
        "tags": [],
        "id": "3f1ba546"
      },
      "source": [
        "Now, we can start training our model using the code below.\n",
        "\n",
        "_Note_: You can also change the network architecture but bigger models are slower to train and require more compute. Using the standard architecture outlined here, the training takes around 20 minutes on my laptop without any GPU access. You should see a significant improvement over the random sampling in the model but the output might not make a lot of sense due to the small scale of the computations used here. Training the model longer is not required to complete the lab."
      ]
    },
    {
      "cell_type": "code",
      "execution_count": null,
      "id": "e4887159",
      "metadata": {
        "tags": [],
        "colab": {
          "base_uri": "https://localhost:8080/"
        },
        "id": "e4887159",
        "outputId": "d4a2946e-b8b2-425a-ee96-f405f8053185"
      },
      "outputs": [
        {
          "output_type": "stream",
          "name": "stdout",
          "text": [
            "Iteration: 0\t loss: 4.23\n",
            "The       t                        t  t t t            t  t    t     t     t        t        t t       \n",
            "----\n"
          ]
        }
      ],
      "source": [
        "optimizer = torch.optim.AdamW(transformer.parameters())\n",
        "\n",
        "max_iter = 5000\n",
        "losses = []\n",
        "\n",
        "eval_freq = 100\n",
        "\n",
        "for i in range(max_iter):\n",
        "\n",
        "    # get the training datta\n",
        "    xb, yb = get_batch('train')\n",
        "\n",
        "    # compute the predictions\n",
        "    pred,_ = transformer(xb)\n",
        "\n",
        "    # reshape the output and target and compute the loss\n",
        "    B, N, D = pred.shape\n",
        "\n",
        "    logits = pred.view(B*N, D)\n",
        "    targets = yb.view(B*N)\n",
        "\n",
        "    #print(logits)\n",
        "\n",
        "    loss = torch.nn.functional.cross_entropy(logits, targets)\n",
        "    losses.append(loss.detach().item())\n",
        "\n",
        "    # compute the backward pass and update parameters\n",
        "    optimizer.zero_grad(set_to_none=True)\n",
        "    loss.backward()\n",
        "    optimizer.step()\n",
        "\n",
        "    # do evaluation\n",
        "    if i % eval_freq == 0:\n",
        "        print(f\"Iteration: {i}\\t loss: {loss.item():.2f}\")\n",
        "        sample(transformer)\n",
        "        print(\"----\")"
      ]
    },
    {
      "cell_type": "markdown",
      "id": "18e83a2b",
      "metadata": {
        "tags": [],
        "id": "18e83a2b"
      },
      "source": [
        "Next, we can visualize the loss over the iterations"
      ]
    },
    {
      "cell_type": "code",
      "execution_count": null,
      "id": "1277f05f",
      "metadata": {
        "tags": [],
        "id": "1277f05f"
      },
      "outputs": [],
      "source": [
        "plt.plot(losses)\n",
        "plt.grid()"
      ]
    },
    {
      "cell_type": "markdown",
      "id": "1e9c7fad",
      "metadata": {
        "tags": [],
        "id": "1e9c7fad"
      },
      "source": [
        "Now that our model is trained, you can again draw samples from the model. You can also change the initial prompt to get different starting points for the sample drawing."
      ]
    },
    {
      "cell_type": "code",
      "execution_count": null,
      "id": "3d1fba79",
      "metadata": {
        "tags": [],
        "id": "3d1fba79"
      },
      "outputs": [],
      "source": [
        "# draw samples from the trained model\n",
        "prompt = \"The\"\n",
        "sample(transformer, prompt=prompt)"
      ]
    },
    {
      "cell_type": "markdown",
      "id": "1ec82583",
      "metadata": {
        "tags": [],
        "id": "1ec82583"
      },
      "source": [
        "__Question 7__: Using the current sampling strategy, the network output is deterministic. How could you change the sampling such that the network can produce multiple output sequences for a single input? (_You do not have to implement these changes_)\n",
        "\n",
        "Note that we use a very small language model here. If you want to get some better results you would need a larger model which requires more training. However, the implementation you have done here basically includes all the components that the GPT and similar model families include. By simply changing the hyper-parameters you can reimplement GPT-2 in this lab (which is the last model in the GPT architecture where the model is well described in a research paper).\n",
        "\n",
        "More modern models add a lot of computational tricks in order to make the model more scalable and so on but the underlying principles are the same as the ones you have implemented yourself in this lab."
      ]
    },
    {
      "cell_type": "markdown",
      "id": "b7776db4",
      "metadata": {
        "tags": [],
        "id": "b7776db4"
      },
      "source": [
        "## Summary & Outlook\n",
        "\n",
        "In this lab you have seen how to implement a transformer using a single head or multiple heads either using a decoder style model for sequence-to-sequence tasks and a small example for a decoder model. The code you have written includes everything the basic GPT models consist of."
      ]
    },
    {
      "cell_type": "markdown",
      "id": "538ca7df",
      "metadata": {
        "tags": [],
        "id": "538ca7df"
      },
      "source": [
        "Hopefully, this lab has given you some hands on experience with the transformer architecture to understand what is going on under the hood of these models that run here.\n",
        "\n",
        "The examples shown here are toy examples that show the potential power of transformers but are in themselves fairly easy. However, transformers nowadays are capable of remarkable performances. While this course covers the basics for the transformer architecture, you will see similar models again in follow up courses:\n",
        "\n",
        "- _Large Language Models and Societal Consequences of Artificial Intelligence_ where the focus will be on building an LLM application, leveraging transformers for text and language, and exploring their impact. Through the assignments, you will work with state-of-the-art LLMs.\n",
        "- _Advanced Deep Learning for Image Processing_ is a course focusing on deep learning models for images and also covers the suprising competetivness of transformers on image data called vision transformers (ViT)."
      ]
    }
  ],
  "metadata": {
    "anaconda-cloud": {},
    "kernelspec": {
      "display_name": "d2l_copy",
      "language": "python",
      "name": "python3"
    },
    "language_info": {
      "codemirror_mode": {
        "name": "ipython",
        "version": 3
      },
      "file_extension": ".py",
      "mimetype": "text/x-python",
      "name": "python",
      "nbconvert_exporter": "python",
      "pygments_lexer": "ipython3",
      "version": "3.9.20"
    },
    "colab": {
      "provenance": [],
      "include_colab_link": true
    }
  },
  "nbformat": 4,
  "nbformat_minor": 5
}